{
 "cells": [
  {
   "cell_type": "code",
   "execution_count": 2,
   "metadata": {
    "collapsed": false,
    "scrolled": false
   },
   "outputs": [
    {
     "name": "stdout",
     "output_type": "stream",
     "text": [
      "[WinError 2] 지정된 파일을 찾을 수 없습니다: 'sound'\n",
      "C:\\Users\\ighyun\\Untitled Folder\\sound\n"
     ]
    },
    {
     "name": "stderr",
     "output_type": "stream",
     "text": [
      "C:\\Users\\ighyun\\Anaconda3\\lib\\site-packages\\scipy\\io\\wavfile.py:221: WavFileWarning: Chunk (non-data) not understood, skipping it.\n",
      "  WavFileWarning)\n"
     ]
    },
    {
     "name": "stdout",
     "output_type": "stream",
     "text": [
      "Accuracy = 0% (0/1) (classification)\n"
     ]
    }
   ],
   "source": [
    "import numpy as np;\n",
    "import math as math;\n",
    "from numpy.fft import fft,fftshift;\n",
    "import matplotlib.pyplot as plt;\n",
    "import scipy.io as sio;\n",
    "from test import *;\n",
    "from svmutil import *;\n",
    "from svm import *;\n",
    "from scipy.io import wavfile # get the api\n",
    "\n",
    "\n",
    "x=test_data()\n",
    "x=np.squeeze(x).tolist()\n",
    "#print(y)\n",
    "#print(x)\n",
    "y=np.ones((15,1))\n",
    "y=np.vstack((y,np.zeros((15,1))))\n",
    "y=np.vstack((y,2*np.ones((15,1))))\n",
    "y=np.squeeze(y).tolist()\n",
    "model=svm_train(y,x,'-t 2')           \n",
    "data=data_input('80.wav')\n",
    "output=svm_predict([1],data,model)\n",
    "#print('ss')\n",
    "#print(\"adsd\")\n",
    "\n",
    "#prob = svm_problem(y,x)\n",
    "\n",
    "#param = svm_parameter()\n",
    "\n",
    "\n",
    "#print((np.size(z['degree'])))\n",
    "#mo=svm_model(model,param)\n",
    "#m=svm_train(prob, param);\n",
    "#print(type(m.param))\n",
    "#print(newmodel)\n",
    "#print(newmodel)\n",
    "\n",
    "#print(type(model['Parameters']))\n",
    "      \n",
    "#print(model[0,0])\n",
    "#np.r_[e,data_input('02.wav')]\n",
    "#test=data_input('01.wav')\n",
    "\n",
    "#print(svmmodel)\n",
    "#svm_predict([1],test,m);\n",
    "#     svmmodel.predict(1,feature)\n",
    "#print(svmmodel)\n",
    "#print(svmmodel[{'dtype'=''}]);00\n",
    "#print(svmmodel['sv_coef'])\n",
    "#     plt.plot(freq,abs(X))\n",
    "#     plt.show()\n",
    "#run svm.py"
   ]
  },
  {
   "cell_type": "code",
   "execution_count": null,
   "metadata": {
    "collapsed": true
   },
   "outputs": [],
   "source": []
  }
 ],
 "metadata": {
  "kernelspec": {
   "display_name": "Python 3",
   "language": "python",
   "name": "python3"
  },
  "language_info": {
   "codemirror_mode": {
    "name": "ipython",
    "version": 3
   },
   "file_extension": ".py",
   "mimetype": "text/x-python",
   "name": "python",
   "nbconvert_exporter": "python",
   "pygments_lexer": "ipython3",
   "version": "3.5.2"
  }
 },
 "nbformat": 4,
 "nbformat_minor": 0
}
