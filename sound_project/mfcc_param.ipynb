{
 "cells": [
  {
   "cell_type": "code",
   "execution_count": 2,
   "metadata": {
    "collapsed": false
   },
   "outputs": [],
   "source": [
    "import numpy as np\n",
    "import math as m\n",
    "class mfcc_param:\n",
    "    def _init_(self):\n",
    "     ;\n",
    "def mfcc_init(window,fs,FFT):  \n",
    "    mfccParams=mfcc_param()\n",
    "    mfccParams.cepstralCoefficients = 13;\n",
    "    mfccParams.fftSize = round(window / 2);\n",
    "    mfccParams.lowestFrequency = 133.3333;\n",
    "    mfccParams.linearFilters = 13;\n",
    "    mfccParams.linearSpacing = 66.66666666;\n",
    "    mfccParams.logFilters = 27;\n",
    "    mfccParams.logSpacing = 1.0711703;\n",
    "    mfccParams.totalFilters = mfccParams.linearFilters + mfccParams.logFilters;\n",
    "    mfccParams.freqs =  mfccParams.lowestFrequency +np.multiply(list(range(0,mfccParams.linearFilters)),mfccParams.linearSpacing);\n",
    "    f=mfccParams.freqs[mfccParams.linearFilters-1] * np.power(mfccParams.logSpacing,np.array(list(range(1,mfccParams.logFilters+3))));\n",
    "    mfccParams.freqs=np.hstack((mfccParams.freqs, f));\n",
    "\n",
    "    mfccParams.lower = mfccParams.freqs[0:mfccParams.totalFilters-1];\n",
    "    mfccParams.center = mfccParams.freqs[1:mfccParams.totalFilters];\n",
    "    mfccParams.upper = mfccParams.freqs[2:mfccParams.totalFilters+1];\n",
    "    mfccParams.mfccFilterWeights = np.zeros((mfccParams.totalFilters,mfccParams.fftSize));\n",
    "#mfccParams.freqs()\n",
    "    print((mfccParams.totalFilters))\n",
    "    print(np.size(mfccParams.freqs))\n",
    "    print(np.size(mfccParams.lower))\n",
    "    print(np.size(mfccParams.upper))\n",
    "    mfccParams.triangleHeight = np.divide(2,(mfccParams.upper-mfccParams.lower));\n",
    "    mfccParams.fftFreqs = np.multiply(np.divide(list(range(0,mfccParams.fftSize)),mfccParams.fftSize),fs);\n",
    "###\n",
    "    for chan in range(0,mfccParams.totalFilters-1): \n",
    "        mfccParams.mfccFilterWeights[chan,:] = np.divide(np.multiply(np.multiply((mfccParams.fftFreqs > mfccParams.lower[chan]) & (mfccParams.fftFreqs <= mfccParams.center[chan]), mfccParams.triangleHeight[chan])\n",
    "                                                         ,(mfccParams.fftFreqs-mfccParams.lower[chan])),(mfccParams.center[chan]-mfccParams.lower[chan]))\n",
    "        + np.divide(np.multiply(np.multiply((mfccParams.fftFreqs > mfccParams.center[chan]) & (mfccParams.fftFreqs < mfccParams.upper[chan]), mfccParams.triangleHeight[chan]),(mfccParams.upper[chan]-mfccParams.fftFreqs)),(mfccParams.upper[chan]-mfccParams.center[chan]))\n",
    "    \n",
    "    \n",
    "    mfccParams.mfccDCTMatrix = np.multiply(1/np.sqrt(mfccParams.totalFilters/2)  ,np.cos(np.multiply(np.matmul( np.reshape(list(range(0,(mfccParams.cepstralCoefficients))),(13,1) ), np.transpose(np.reshape(np.add(np.multiply(2,list(range(0,(mfccParams.totalFilters)))),1),(40,1))) )\n",
    "                       ,(m.pi/2/mfccParams.totalFilters)))) \n",
    "\n",
    "                        \n",
    "    mfccParams.mfccDCTMatrix[0,:] = np.divide(np.multiply(mfccParams.mfccDCTMatrix[0,:] , np.sqrt(2)),2);\n",
    "    \n",
    "    earMag = np.log10(np.add(np.matmul(mfccParams.mfccFilterWeights , FFT),np.finfo(float).eps));\n",
    "    ceps = np.matmul(mfccParams.mfccDCTMatrix , earMag);\n",
    "    return mfccParams,ceps,earMag;"
   ]
  }
 ],
 "metadata": {
  "kernelspec": {
   "display_name": "Python 3",
   "language": "python",
   "name": "python3"
  },
  "language_info": {
   "codemirror_mode": {
    "name": "ipython",
    "version": 3
   },
   "file_extension": ".py",
   "mimetype": "text/x-python",
   "name": "python",
   "nbconvert_exporter": "python",
   "pygments_lexer": "ipython3",
   "version": "3.5.1"
  }
 },
 "nbformat": 4,
 "nbformat_minor": 0
}
