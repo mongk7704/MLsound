{
 "cells": [
  {
   "cell_type": "code",
   "execution_count": 1,
   "metadata": {
    "collapsed": false
   },
   "outputs": [
    {
     "ename": "SyntaxError",
     "evalue": "invalid syntax (<ipython-input-1-b69fecf57d62>, line 3)",
     "output_type": "error",
     "traceback": [
      "\u001b[1;36m  File \u001b[1;32m\"<ipython-input-1-b69fecf57d62>\"\u001b[1;36m, line \u001b[1;32m3\u001b[0m\n\u001b[1;33m    function mfccParams = feature_mfccs_init(windowLength, fs)\u001b[0m\n\u001b[1;37m                      ^\u001b[0m\n\u001b[1;31mSyntaxError\u001b[0m\u001b[1;31m:\u001b[0m invalid syntax\n"
     ]
    }
   ],
   "source": [
    "import numpy as np\n",
    "\n",
    "def mfccs_init(windowLength, fs):\n",
    "\n",
    "\n",
    "mfccParams.cepstralCoefficients = 13;\n",
    "\n",
    "\n",
    "mfccParams.fftSize = round(windowLength / 2);\n",
    "\n",
    "mfccParams.lowestFrequency = 133.3333;\n",
    "mfccParams.linearFilters = 13;\n",
    "mfccParams.linearSpacing = 66.66666666;\n",
    "mfccParams.logFilters = 27;\n",
    "mfccParams.logSpacing = 1.0711703;\n",
    "mfccParams.totalFilters = mfccParams.linearFilters + mfccParams.logFilters;\n",
    "mfccParams.freqs = mfccParams.lowestFrequency + np.multiply(list(range(0:mfccParams.linearFilters-1)),mfccParams.linearSpacing);\n",
    "print(mfccParams.freqs)\n",
    "# mfccParams.freqs(mfccParams.linearFilters+1:mfccParams.totalFilters+2) = ...\n",
    "#     mfccParams.freqs(mfccParams.linearFilters) * ...\n",
    "#     mfccParams.logSpacing.^(1:mfccParams.logFilters+2);\n",
    "# mfccParams.lower = mfccParams.freqs(1:mfccParams.totalFilters);\n",
    "# mfccParams.center = mfccParams.freqs(2:mfccParams.totalFilters+1);\n",
    "# mfccParams.upper = mfccParams.freqs(3:mfccParams.totalFilters+2);\n",
    "# mfccParams.mfccFilterWeights = zeros(mfccParams.totalFilters,mfccParams.fftSize);\n",
    "# mfccParams.triangleHeight = 2./(mfccParams.upper-mfccParams.lower);\n",
    "# mfccParams.fftFreqs = (0:mfccParams.fftSize-1)/mfccParams.fftSize*fs;\n",
    "\n",
    "# for chan=1:mfccParams.totalFilters % for each filter:\n",
    "#     % compute the respective filter weights:\n",
    "# \tmfccParams.mfccFilterWeights(chan,:) = (mfccParams.fftFreqs > ...\n",
    "#         mfccParams.lower(chan) & mfccParams.fftFreqs <= mfccParams.center(chan)).* ...\n",
    "#         mfccParams.triangleHeight(chan).*...\n",
    "#         (mfccParams.fftFreqs-mfccParams.lower(chan))/...\n",
    "#         (mfccParams.center(chan)-mfccParams.lower(chan)) + ...\n",
    "#         (mfccParams.fftFreqs > mfccParams.center(chan) & ...\n",
    "#         mfccParams.fftFreqs < mfccParams.upper(chan)).* ...\n",
    "#           mfccParams.triangleHeight(chan).*...\n",
    "#           (mfccParams.upper(chan)-mfccParams.fftFreqs)/...\n",
    "#           (mfccParams.upper(chan)-mfccParams.center(chan));\n",
    "# end\n",
    "\n",
    "# % matrix used in the DCT calculation:\n",
    "# mfccParams.mfccDCTMatrix = 1/sqrt(mfccParams.totalFilters/2)*...\n",
    "#     cos((0:(mfccParams.cepstralCoefficients-1))' * ...\n",
    "#     (2*(0:(mfccParams.totalFilters-1))+1) * pi/2/mfccParams.totalFilters);\n",
    "# mfccParams.mfccDCTMatrix(1,:) = mfccParams.mfccDCTMatrix(1,:) * sqrt(2)/2;"
   ]
  }
 ],
 "metadata": {
  "kernelspec": {
   "display_name": "Python 3",
   "language": "python",
   "name": "python3"
  },
  "language_info": {
   "codemirror_mode": {
    "name": "ipython",
    "version": 3
   },
   "file_extension": ".py",
   "mimetype": "text/x-python",
   "name": "python",
   "nbconvert_exporter": "python",
   "pygments_lexer": "ipython3",
   "version": "3.5.1"
  }
 },
 "nbformat": 4,
 "nbformat_minor": 0
}
